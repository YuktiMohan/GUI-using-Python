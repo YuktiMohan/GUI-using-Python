{
 "cells": [
  {
   "cell_type": "code",
   "execution_count": 2,
   "metadata": {},
   "outputs": [],
   "source": [
    "from tkinter import *\n",
    "from PIL import Image, ImageTk\n",
    "from tkinter import filedialog\n",
    "import pandas as pd \n",
    "import numpy as np"
   ]
  },
  {
   "cell_type": "code",
   "execution_count": 1,
   "metadata": {},
   "outputs": [],
   "source": [
    "def askopenfile():\n",
    "    file = filedialog.askopenfile(parent=root,mode='rb',title='Choose a file')\n",
    "    if file != None:\n",
    "        global data \n",
    "        data = pd.read_csv(file)\n",
    "    #print(file)\n",
    "    #print(data)\n",
    "    #print(\"I got %d bytes from this file.\" % len(data))\n",
    "    #print(\"You selected the option \" + str(algo))"
   ]
  },
  {
   "cell_type": "code",
   "execution_count": 6,
   "metadata": {},
   "outputs": [],
   "source": [
    "root = Tk()\n",
    "\n",
    "Imageframe = Frame(root)\n",
    "Imageframe.place(relx=0, rely=0, relwidth=1, relheight=0.5, anchor=NW)\n",
    "\n",
    "photo = PhotoImage(file=\"logo1.png\")\n",
    "Imagelabel = Label(Imageframe, image=photo)\n",
    "Imagelabel.place(relwidth=1, relheight=0.5)\n",
    "\n",
    "Cframe = Frame(root)\n",
    "Cframe.place(rely=0.5, relx=0, relwidth=0.2, relheight=0.5)\n",
    "Clabel = Label(Cframe, text='Select the number of channels:', bg='#33D7FF', relief=RAISED)\n",
    "Clabel.place(relx=0.1)\n",
    "\n",
    "Rvar = IntVar()\n",
    "R1 = Radiobutton(Cframe, text=\"32 Channel\", variable=Rvar, value=1, font=\"Times\")\n",
    "R1.place(relx=0.7)\n",
    "R2 = Radiobutton(Cframe, text=\"64 Channel\", variable=Rvar, value=2)\n",
    "R2.place(relx=0.7, rely=0.1)\n",
    "R3 = Radiobutton(Cframe, text=\"128 Channel\", variable=Rvar, value=3)\n",
    "R3.place(relx=0.7, rely=0.2)\n",
    "\n",
    "Dvar = StringVar()\n",
    "Dvar.set(\"Select\")\n",
    "Dframe = Frame(root)\n",
    "Dframe.place(rely=0.5, relx=0.4, relwidth=0.2, relheight=0.5)\n",
    "Dlabel1 = Label(Dframe, text='Select algorithm:', font=40, bg='#33D7FF', relief=RAISED)\n",
    "Dlabel1.place(relx=0)\n",
    "Doption = OptionMenu(Dframe, Dvar, \"XGBoost\", \"SVM\")\n",
    "Doption.place(relx=0.4, rely=0)\n",
    "Dlabel2 = Label(Dframe, text='Load Data: ', font=40, bg='#33D7FF', relief=RAISED)\n",
    "Dlabel2.place(relx=0.05, rely=0.21)\n",
    "button = Button(Dframe, text='Browse', command=askopenfile, font=40, relief=RAISED)\n",
    "button.place(relx=0.35, rely=0.2)\n",
    "Dlabel3 = Label(Dframe, text='(Please use CSV Files only!)', font=40, relief=FLAT, bg='#FF4C33', fg='white')\n",
    "Dlabel3.place(relx=0.03, rely=0.27)\n",
    "\n",
    "Rframe = Frame(root)\n",
    "Rframe.place(rely=0.5, relx=0.7, relwidth=0.2, relheight=0.5)\n",
    "Rbutton = Button(Rframe, text='Result: ', font=40, bg='#33D7FF', relief=RAISED)\n",
    "Rbutton.place(relx=0, rely=0)\n",
    "\n",
    "root.mainloop()"
   ]
  }
 ],
 "metadata": {
  "kernelspec": {
   "display_name": "Python 3",
   "language": "python",
   "name": "python3"
  },
  "language_info": {
   "codemirror_mode": {
    "name": "ipython",
    "version": 3
   },
   "file_extension": ".py",
   "mimetype": "text/x-python",
   "name": "python",
   "nbconvert_exporter": "python",
   "pygments_lexer": "ipython3",
   "version": "3.7.3"
  }
 },
 "nbformat": 4,
 "nbformat_minor": 2
}
